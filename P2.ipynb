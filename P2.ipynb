{
 "cells": [
  {
   "cell_type": "markdown",
   "metadata": {},
   "source": [
    "## Advanced Lane Finding\n",
    "[![Udacity - Self-Driving Car NanoDegree](https://s3.amazonaws.com/udacity-sdc/github/shield-carnd.svg)](http://www.udacity.com/drive)\n",
    "\n",
    "\n",
    "In this project, your goal is to write a software pipeline to identify the lane boundaries in a video, but the main output or product we want you to create is a detailed writeup of the project.  Check out the [writeup template](https://github.com/udacity/CarND-Advanced-Lane-Lines/blob/master/writeup_template.md) for this project and use it as a starting point for creating your own writeup.  \n",
    "\n",
    "Creating a great writeup:\n",
    "---\n",
    "A great writeup should include the rubric points as well as your description of how you addressed each point.  You should include a detailed description of the code used in each step (with line-number references and code snippets where necessary), and links to other supporting documents or external references.  You should include images in your writeup to demonstrate how your code works with examples.  \n",
    "\n",
    "All that said, please be concise!  We're not looking for you to write a book here, just a brief description of how you passed each rubric point, and references to the relevant code :). \n",
    "\n",
    "You're not required to use markdown for your writeup.  If you use another method please just submit a pdf of your writeup.\n",
    "\n",
    "The Project\n",
    "---\n",
    "\n",
    "The goals / steps of this project are the following:\n",
    "\n",
    "* Compute the camera calibration matrix and distortion coefficients given a set of chessboard images.\n",
    "* Apply a distortion correction to raw images.\n",
    "* Use color transforms, gradients, etc., to create a thresholded binary image.\n",
    "* Apply a perspective transform to rectify binary image (\"birds-eye view\").\n",
    "* Detect lane pixels and fit to find the lane boundary.\n",
    "* Determine the curvature of the lane and vehicle position with respect to center.\n",
    "* Warp the detected lane boundaries back onto the original image.\n",
    "* Output visual display of the lane boundaries and numerical estimation of lane curvature and vehicle position.\n",
    "\n",
    "The images for camera calibration are stored in the folder called `camera_cal`.  The images in `test_images` are for testing your pipeline on single frames.  If you want to extract more test images from the videos, you can simply use an image writing method like `cv2.imwrite()`, i.e., you can read the video in frame by frame as usual, and for frames you want to save for later you can write to an image file.  \n",
    "\n",
    "To help the reviewer examine your work, please save examples of the output from each stage of your pipeline in the folder called `output_images`, and include a description in your writeup for the project of what each image shows.    The video called `project_video.mp4` is the video your pipeline should work well on.  \n",
    "\n",
    "The `challenge_video.mp4` video is an extra (and optional) challenge for you if you want to test your pipeline under somewhat trickier conditions.  The `harder_challenge.mp4` video is another optional challenge and is brutal!\n",
    "\n",
    "If you're feeling ambitious (again, totally optional though), don't stop there!  We encourage you to go out and take video of your own, calibrate your camera and show us how you would implement this project from scratch!\n",
    "\n",
    "Rubric: https://review.udacity.com/#!/rubrics/571/view\n",
    "\n",
    "## How to write a README\n",
    "A well written README file can enhance your project and portfolio.  Develop your abilities to create professional README files by completing [this free course](https://www.udacity.com/course/writing-readmes--ud777).\n",
    "\n",
    "\n"
   ]
  },
  {
   "cell_type": "markdown",
   "metadata": {},
   "source": [
    "### Calibration\n",
    "\n",
    "#### 1. Compute the camera calibration matrix and distortion coefficients given a set of chessboard images"
   ]
  },
  {
   "cell_type": "code",
   "execution_count": 110,
   "metadata": {},
   "outputs": [],
   "source": [
    "import numpy as np\n",
    "import cv2\n",
    "import glob\n",
    "import matplotlib.pyplot as plt\n",
    "import matplotlib.image as mpimg\n",
    "import pickle\n",
    "%matplotlib qt5"
   ]
  },
  {
   "cell_type": "code",
   "execution_count": 111,
   "metadata": {},
   "outputs": [],
   "source": [
    "def calc_calibration_points(images, n_x, n_y):\n",
    "    '''\n",
    "    This function takes a series of chessboard images taken with the camera for which the calibration points are\n",
    "    to be calculated. The number of chessboard corners in x and y direction must be counted manually and passed\n",
    "    to the function as well. \"Chessboard corners\" are only points where two black and two white squares \n",
    "    intersect.\n",
    "    The function returns all recognized chessboard corners in the following way:\n",
    "    object_points: a list of 3D points corresponding to the location of the corners in real world coordinates\n",
    "    image_points: a list of 2D points corresponding to the location of the corners in image space\n",
    "    '''\n",
    "    # Prepare object points, like (0,0,0), (1,0,0), (2,0,0), ...\n",
    "    object_points_current = np.zeros((n_x*n_y, 3), np.float32)\n",
    "    object_points_current[:,:2] = np.mgrid[0:9, 0:6].T.reshape(-1, 2)\n",
    "\n",
    "    # Arrays to store object points and image points from all the images\n",
    "    object_points = [] # 3d points (enumeration of the corners) in real world space\n",
    "    image_points = [] # 2d points in image plane\n",
    "\n",
    "    # Step through the list and search for chessboard corners\n",
    "    for idx, fname in enumerate(images):\n",
    "        image = cv2.imread(fname)\n",
    "        image_grayscale = cv2.cvtColor(image, cv2.COLOR_BGR2GRAY)\n",
    "\n",
    "        # Find the chessboard corners\n",
    "        ret, corners = cv2.findChessboardCorners(image_grayscale, (n_x,n_y), None)\n",
    "\n",
    "        # If found, add object points, image points\n",
    "        if ret == True:\n",
    "            object_points.append(object_points_current)\n",
    "            image_points.append(corners)\n",
    "\n",
    "            # Draw and display the corners\n",
    "            cv2.drawChessboardCorners(image, (n_x,n_y), corners, ret)\n",
    "            write_name = 'camera_cal/corners_found' + str(idx) + '.jpg'\n",
    "            cv2.imwrite(write_name, image)\n",
    "            cv2.imshow('Image', image)\n",
    "            cv2.waitKey(500)\n",
    "\n",
    "    cv2.destroyAllWindows()\n",
    "    \n",
    "    return object_points, image_points\n",
    "\n",
    "# Make a list of calibration images\n",
    "images = glob.glob('camera_cal/calibration*.jpg')\n",
    "\n",
    "# Counted chessboard corners\n",
    "n_x = 9\n",
    "n_y = 6\n",
    "\n",
    "# Get object_points and image_points for calibration\n",
    "object_points, image_points = calc_calibration_points(images, n_x, n_y)\n",
    "\n",
    "# Read in image used for calibration\n",
    "image = cv2.imread('camera_cal/calibration3.jpg')\n",
    "image_size = (image.shape[1], image.shape[0])\n",
    "\n",
    "# Calibrate camera given object_points and image_points\n",
    "# Function returns reprojection error, camera matrix, distortion coefficients, rotation and translation \n",
    "ret, mtx, dist, rvecs, tvecs = cv2.calibrateCamera(object_points, image_points, image_size, None, None)\n",
    "    \n",
    "# Save camera calibration result for later use\n",
    "dist_pickle = {}\n",
    "dist_pickle[\"mtx\"] = mtx\n",
    "dist_pickle[\"dist\"] = dist\n",
    "pickle.dump(dist_pickle, open(\"camera_cal/dist_pickle.p\", \"wb\"))"
   ]
  },
  {
   "cell_type": "code",
   "execution_count": 112,
   "metadata": {},
   "outputs": [
    {
     "data": {
      "text/plain": [
       "Text(0.5,1,'Undistorted Image')"
      ]
     },
     "execution_count": 112,
     "metadata": {},
     "output_type": "execute_result"
    }
   ],
   "source": [
    "# Undistort image\n",
    "image_undistorted = cv2.undistort(image, mtx, dist, None, mtx)\n",
    "\n",
    "# Visualize undistortion\n",
    "f, (ax1, ax2) = plt.subplots(1, 2, figsize=(20,10))\n",
    "ax1.imshow(image)\n",
    "ax1.set_title('Original Image', fontsize=30)\n",
    "ax2.imshow(image_undistorted)\n",
    "ax2.set_title('Undistorted Image', fontsize=30)"
   ]
  },
  {
   "cell_type": "code",
   "execution_count": 113,
   "metadata": {},
   "outputs": [],
   "source": [
    "# Unwarp\n",
    "def calc_transform_matrix(image_undistorted, n_x, n_y, mtx, dist, offset):\n",
    "    '''\n",
    "    This function takes the undistorted color image of a chessboard for which the perspective transform matrix \n",
    "    is to be calculated. The number of chessboard corners in x and y direction must be counted manually and \n",
    "    passed to the function alongside the camera's distortion coefficients dist and the target offset of the \n",
    "    corners from the image edges in topview image. \"Chessboard corners\" are only points where two black and two \n",
    "    white squares intersect.\n",
    "    The function returns the perspective transform matrix.\n",
    "    '''\n",
    "    # Grayscale image\n",
    "    image_grayscale = cv2.cvtColor(image_undistorted, cv2.COLOR_BGR2GRAY)\n",
    "\n",
    "    # Find chessboard corners\n",
    "    # Function returns non-zero value ret if all corners are found\n",
    "    ret, corners = cv2.findChessboardCorners(image_grayscale, (n_x, n_y), None)\n",
    "    cv2.drawChessboardCorners(image_undistorted, (n_x,n_y), corners, ret)\n",
    "\n",
    "    if ret == True:\n",
    "        # Define source and destination coordinates\n",
    "        src = np.float32([corners[0], corners[n_x-1], corners[-1], corners[-n_x]])\n",
    "\n",
    "        dst = np.float32([[offset, offset], [img_size[0]-offset, offset], [img_size[0]-offset, img_size[1]-offset], [offset, img_size[1]-offset]])\n",
    "\n",
    "        # Get transform matrix M\n",
    "        M = cv2.getPerspectiveTransform(src, dst)\n",
    "        return M\n",
    "    else:\n",
    "        print(\"Not all chessboard corners were found. Try using a different image for obtaining the transform matrix!\")\n",
    "\n",
    "# Offset of corners from image edges in unwarped image\n",
    "offset = 100\n",
    "\n",
    "# Calculate transform\n",
    "M = calc_transform_matrix(image_undistorted, n_x, n_y, mtx, dist, offset)\n",
    "image_topview = cv2.warpPerspective(image_undistorted, M, image_size)"
   ]
  },
  {
   "cell_type": "code",
   "execution_count": 114,
   "metadata": {},
   "outputs": [],
   "source": [
    "f, (ax1, ax2) = plt.subplots(1, 2, figsize=(24, 9))\n",
    "f.tight_layout()\n",
    "ax1.imshow(image)\n",
    "ax1.set_title('Original Image', fontsize=30)\n",
    "ax2.imshow(image_topview)\n",
    "ax2.set_title('Undistorted and Topview Image', fontsize=30)\n",
    "plt.subplots_adjust(left=0., right=1, top=0.9, bottom=0.)"
   ]
  },
  {
   "cell_type": "markdown",
   "metadata": {},
   "source": [
    "### Pipeline (test images)\n",
    "\n",
    "#### 1. Apply a distortion correction to raw images"
   ]
  },
  {
   "cell_type": "code",
   "execution_count": 115,
   "metadata": {},
   "outputs": [
    {
     "data": {
      "text/plain": [
       "Text(0.5,1,'Undistorted Image')"
      ]
     },
     "execution_count": 115,
     "metadata": {},
     "output_type": "execute_result"
    }
   ],
   "source": [
    "image = mpimg.imread('test_images/test5.jpg')\n",
    "\n",
    "# Read in the saved camera matrix and distortion coefficients\n",
    "dist_pickle = pickle.load(open(\"camera_cal/dist_pickle.p\", \"rb\"))\n",
    "mtx = dist_pickle[\"mtx\"]\n",
    "dist = dist_pickle[\"dist\"]\n",
    "image_undistorted = cv2.undistort(image, mtx, dist, None, mtx)\n",
    "\n",
    "# Visualize undistortion\n",
    "f, (ax1, ax2) = plt.subplots(1, 2, figsize=(20,10))\n",
    "ax1.imshow(image)\n",
    "ax1.set_title('Original Image', fontsize=30)\n",
    "ax2.imshow(image_undistorted)\n",
    "ax2.set_title('Undistorted Image', fontsize=30)"
   ]
  },
  {
   "cell_type": "markdown",
   "metadata": {},
   "source": [
    "#### 2. Use color transforms, gradients, etc. to create a thresholded binary image"
   ]
  },
  {
   "cell_type": "code",
   "execution_count": 116,
   "metadata": {},
   "outputs": [],
   "source": [
    "def abs_threshold(image, orient='x', sobel_kernel=3, thresh_min=0, thresh_max=255):\n",
    "    '''\n",
    "    This function takes a single channel image (e.g. grayscale), applies the Sobel operator in orient='x' or \n",
    "    orient='y' orientation with the the specified kernel, then takes the absolute value, scales the image back to \n",
    "    (0,255) and applies the specified threshold.\n",
    "    '''\n",
    "    # Convert to grayscale\n",
    "    sobel = np.copy(image)*0\n",
    "\n",
    "    # Take the derivative in x or y given orient='x' or 'y'\n",
    "    if orient == 'x':\n",
    "        sobel = cv2.Sobel(image, cv2.CV_64F, 1, 0, ksize=sobel_kernel)\n",
    "    else:\n",
    "        sobel = cv2.Sobel(image, cv2.CV_64F, 0, 1, ksize=sobel_kernel)\n",
    "    \n",
    "    # Take the absolute value of the derivative or gradient\n",
    "    abs_sobel = np.absolute(sobel)\n",
    "    \n",
    "    # Scale to 8-bit (0 - 255) then convert to type = np.uint8\n",
    "    scaled_sobel = np.uint8(255 * abs_sobel / np.max(abs_sobel))\n",
    "\n",
    "    # Create a binary mask where thresh_min and thresh_max are met\n",
    "    binary_output = np.zeros_like(scaled_sobel)\n",
    "    binary_output[(scaled_sobel >= thresh_min) & (scaled_sobel <= thresh_max)] = 1\n",
    "    \n",
    "    return binary_output\n",
    "\n",
    "def mag_threshold(image, sobel_kernel=3, mag_thresh=(0, 255)):\n",
    "    '''\n",
    "    This function applies the Sobel operator in x and y orientation separately with the the specified kernel, then \n",
    "    calculates the magnitude using np.sqrt(), scales the image back to (0,255) and applies the specified threshold.\n",
    "    '''\n",
    "    # Convert to grayscale\n",
    "    image_grayscale = cv2.cvtColor(image, cv2.COLOR_RGB2GRAY)\n",
    "    \n",
    "    # Take the gradient in x and y separately\n",
    "    sobel_x = cv2.Sobel(image_grayscale, cv2.CV_64F, 1, 0, ksize=sobel_kernel)\n",
    "    sobel_y = cv2.Sobel(image_grayscale, cv2.CV_64F, 0, 1, ksize=sobel_kernel)\n",
    "    \n",
    "    # Calculate the magnitude\n",
    "    sobel_magnitude = np.sqrt(sobel_x**2 + sobel_y**2)\n",
    "    \n",
    "    # Scale to 8-bit (0 - 255) and convert to type = np.uint8\n",
    "    scale_factor = 255 / np.max(sobel_magnitude)\n",
    "    \n",
    "    scaled_sobel_magnitude = np.uint8(sobel_magnitude * scale_factor)\n",
    "\n",
    "    # Create a binary mask where mag thresholds are met\n",
    "    binary_output = np.zeros_like(scaled_sobel_magnitude)\n",
    "    binary_output[(scaled_sobel_magnitude >= mag_thresh[0]) & (scaled_sobel_magnitude <= mag_thresh[1])] = 1\n",
    "    \n",
    "    return binary_output\n",
    "\n",
    "def dir_threshold(image, sobel_kernel=3, thresh=(0, np.pi/2)):\n",
    "    '''\n",
    "    This function applies the Sobel operator in x and y orientation separately with the the specified kernel, then \n",
    "    calculates the direction of the gradient using np.arctan2() and applies the specified threshold.\n",
    "    '''\n",
    "    # Convert to grayscale\n",
    "    image_grayscale = cv2.cvtColor(image, cv2.COLOR_RGB2GRAY)\n",
    "    \n",
    "    # Take the gradient in x and y separately\n",
    "    sobel_x = cv2.Sobel(image_grayscale, cv2.CV_64F, 1, 0, ksize=sobel_kernel)\n",
    "    sobel_y = cv2.Sobel(image_grayscale, cv2.CV_64F, 0, 1, ksize=sobel_kernel)\n",
    "    \n",
    "    # Take the absolute value of the x and y gradients\n",
    "    abs_sobel_x = np.absolute(sobel_x)\n",
    "    abs_sobel_y = np.absolute(sobel_y)\n",
    "    \n",
    "    # Calculate the direction of the gradient \n",
    "    sobel_direction = np.arctan2(abs_sobel_y, abs_sobel_x)\n",
    "    \n",
    "    # Create a binary mask where direction thresholds are met\n",
    "    binary_output = np.zeros_like(sobel_direction)\n",
    "    binary_output[(sobel_direction >= thresh[0]) & (sobel_direction <= thresh[1])] = 1\n",
    "    \n",
    "    return binary_output\n",
    "\n",
    "# Parameters\n",
    "ksize = 5\n",
    "S_thresh=(170, 255)\n",
    "L_thresh=(20, 255)\n",
    "sobel_x_L_thresh=(20, 100)\n",
    "\n",
    "# Convert to HLS color space\n",
    "image_hls = cv2.cvtColor(image_undistorted, cv2.COLOR_RGB2HLS)\n",
    "\n",
    "# Get single color channels\n",
    "image_S = image_hls[:,:,2]\n",
    "image_L = image_hls[:,:,1]\n",
    "\n",
    "sobel_x_L_binary = abs_threshold(image_L, orient='x', sobel_kernel=ksize, thresh_min=sobel_x_L_thresh[0], thresh_max=sobel_x_L_thresh[1])\n",
    "\n",
    "# Threshold color channel\n",
    "S_binary = np.zeros_like(image_S)\n",
    "S_binary[(image_S >= S_thresh[0]) & (image_S <= S_thresh[1])] = 1\n",
    "    \n",
    "# Threshold L channel\n",
    "L_binary = np.zeros_like(image_S)\n",
    "L_binary[(image_L >= L_thresh[0]) & (image_L <= L_thresh[1])] = 1\n",
    "\n",
    "# Add all binary images into a single binary image\n",
    "image_binary = np.zeros_like(image_S)\n",
    "image_binary[(sobel_x_L_binary == 1) | (S_binary == 1) & (L_binary == 1)] = 1\n",
    "\n",
    "# Plot the result\n",
    "f, (ax1, ax2) = plt.subplots(1, 2, figsize=(24, 9))\n",
    "f.tight_layout()\n",
    "\n",
    "ax1.imshow(image)\n",
    "ax1.set_title('Original Image', fontsize=40)\n",
    "\n",
    "ax2.imshow(image_binary, cmap='gray')\n",
    "ax2.set_title('Pipeline Result', fontsize=40)\n",
    "plt.subplots_adjust(left=0., right=1, top=0.9, bottom=0.)"
   ]
  },
  {
   "cell_type": "markdown",
   "metadata": {},
   "source": [
    "#### 3. Apply a perspective transform to rectify binary image (\"birds-eye view\")"
   ]
  },
  {
   "cell_type": "markdown",
   "metadata": {},
   "source": [
    "#### 4. Detect lane pixels and fit to find the lane boundary"
   ]
  },
  {
   "cell_type": "markdown",
   "metadata": {},
   "source": [
    "#### 5. Determine the curvature of the lane and vehicle position with respect to center"
   ]
  },
  {
   "cell_type": "markdown",
   "metadata": {},
   "source": [
    "#### 6. Warp the detected lane boundaries back onto the original image"
   ]
  },
  {
   "cell_type": "markdown",
   "metadata": {},
   "source": [
    "#### 7. Output visual display of the lane boundaries and numerical estimation of lane curvature and vehicle position"
   ]
  },
  {
   "cell_type": "markdown",
   "metadata": {},
   "source": [
    "### Pipeline (video)"
   ]
  },
  {
   "cell_type": "code",
   "execution_count": null,
   "metadata": {},
   "outputs": [],
   "source": []
  }
 ],
 "metadata": {
  "kernelspec": {
   "display_name": "Python 3",
   "language": "python",
   "name": "python3"
  },
  "language_info": {
   "codemirror_mode": {
    "name": "ipython",
    "version": 3
   },
   "file_extension": ".py",
   "mimetype": "text/x-python",
   "name": "python",
   "nbconvert_exporter": "python",
   "pygments_lexer": "ipython3",
   "version": "3.5.2"
  },
  "widgets": {
   "state": {},
   "version": "1.1.2"
  }
 },
 "nbformat": 4,
 "nbformat_minor": 2
}
